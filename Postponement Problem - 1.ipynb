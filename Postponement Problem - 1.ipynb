{
 "cells": [
  {
   "cell_type": "code",
   "execution_count": 215,
   "id": "9748b021",
   "metadata": {},
   "outputs": [],
   "source": [
    "### Data matrices\n",
    "\n",
    "# i -> index of products (p1,p2,p3)\n",
    "# j -> index of resources (r1, r2, r3)\n",
    "# k -> index of market ( lo2, med , high)\n",
    "\n",
    "Demand_states = [\"l\", \"m\", \"h\"]\n",
    "\n",
    "# selling price with index i for each product\n",
    "Price = [60 ,40 ,10]  \n",
    "\n",
    "# resource recipe with index i,j where i stands for product and j for resource\n",
    "r = [[8, 6, 1], \n",
    "     [2, 1.5, 0.5], \n",
    "     [4 ,2, 1.5]] #ise index i for prod, j for resource [j,i]\n",
    "c = [2, 5.2, 4]\n",
    "\n",
    "# demand for each product at different market conditions, each column is one product, each row is one market condition\n",
    "Demand = [[50, 150, 250],\n",
    "        [20, 110, 250],\n",
    "        [200, 225, 500]]  #k,i\n",
    "\n",
    "# probabbility of each market condition, use index k \n",
    "Prob = [0.3, 0.4, 0.3]"
   ]
  },
  {
   "cell_type": "code",
   "execution_count": 216,
   "id": "130eccdf",
   "metadata": {},
   "outputs": [],
   "source": [
    "import gurobipy as gb\n",
    "from gurobipy import GRB"
   ]
  },
  {
   "cell_type": "code",
   "execution_count": 217,
   "id": "f4045e61",
   "metadata": {},
   "outputs": [],
   "source": [
    "PPP = gb.Model(\"Postponement Problem_LP & Uncertainty\")"
   ]
  },
  {
   "cell_type": "code",
   "execution_count": 218,
   "id": "b2957e18",
   "metadata": {},
   "outputs": [],
   "source": [
    "# \n",
    "I = len(c)\n",
    "K = len(Price)\n",
    "J = len(Prob)\n",
    "\n",
    "\n",
    "# decision variables \n",
    "\n",
    "R = PPP.addVars(I, lb = 0, vtype = GRB.CONTINUOUS, name = [\"R\"+str(i) for i in range(J)])\n",
    "P = PPP.addVars(K, lb = 0, vtype = GRB.CONTINUOUS, name = [\"P\"+str(k) for k in range(I)])\n",
    "S = PPP.addVars(J, K, lb = 0, vtype = GRB.CONTINUOUS, name = [\"Sales of Product  \"+str(k)+\" in demand state \"+str(j) for k in ['l','m','h'] for j in range(J)])"
   ]
  },
  {
   "cell_type": "code",
   "execution_count": 219,
   "id": "bdb46b31",
   "metadata": {},
   "outputs": [],
   "source": [
    "# Objective\n",
    "\n",
    "sales = sum(pr[j]*S[k,j]*sp[k] for k in range(K) for j in range(J))\n",
    "\n",
    "cost = sum(cr[i]*R[i] for i in range(I))\n",
    "exp = sales - cost\n",
    "\n",
    "PPP.setObjective(exp, GRB.MAXIMIZE)"
   ]
  },
  {
   "cell_type": "code",
   "execution_count": 220,
   "id": "cefe4f17",
   "metadata": {},
   "outputs": [],
   "source": [
    "# Constraints\n",
    "\n",
    "# Non negativity is defined in definition\n",
    "\n",
    "# resource constraint\n",
    "for j in range(J):\n",
    "    PPP.addConstr(sum(P[i]*r[j][i] for i in range(I)) <= R[j])\n",
    "\n",
    "# Sales cannot be more than demand\n",
    "for i in range(I):\n",
    "    for k in range(K):\n",
    "        PPP.addConstr(S[k,i] <= d[k][i]) \n",
    "\n",
    "\n",
    "# sales cannot be more than production\n",
    "for k in range(K):\n",
    "    for j in range(J):\n",
    "        PPP.addConstr(S[k,j] <= P[k] )"
   ]
  },
  {
   "cell_type": "code",
   "execution_count": 221,
   "id": "0f13d471",
   "metadata": {},
   "outputs": [
    {
     "name": "stdout",
     "output_type": "stream",
     "text": [
      "Gurobi Optimizer version 10.0.2 build v10.0.2rc0 (mac64[arm])\n",
      "\n",
      "CPU model: Apple M2\n",
      "Thread count: 8 physical cores, 8 logical processors, using up to 8 threads\n",
      "\n",
      "Optimize a model with 21 rows, 15 columns and 39 nonzeros\n",
      "Model fingerprint: 0xd5963a1d\n",
      "Coefficient statistics:\n",
      "  Matrix range     [5e-01, 8e+00]\n",
      "  Objective range  [2e+00, 2e+01]\n",
      "  Bounds range     [0e+00, 0e+00]\n",
      "  RHS range        [2e+01, 5e+02]\n",
      "Presolve removed 12 rows and 3 columns\n",
      "Presolve time: 0.01s\n",
      "Presolved: 9 rows, 12 columns, 18 nonzeros\n",
      "\n",
      "Iteration    Objective       Primal Inf.    Dual Inf.      Time\n",
      "       0    7.4220000e+03   6.625000e+01   0.000000e+00      0s\n",
      "       3    1.1420000e+03   0.000000e+00   0.000000e+00      0s\n",
      "\n",
      "Solved in 3 iterations and 0.02 seconds (0.00 work units)\n",
      "Optimal objective  1.142000000e+03\n"
     ]
    }
   ],
   "source": [
    "PPP.optimize()"
   ]
  },
  {
   "cell_type": "code",
   "execution_count": 222,
   "id": "a8f28466",
   "metadata": {},
   "outputs": [
    {
     "data": {
      "text/plain": [
       "1142.0"
      ]
     },
     "execution_count": 222,
     "metadata": {},
     "output_type": "execute_result"
    }
   ],
   "source": [
    "PPP.objVal"
   ]
  },
  {
   "cell_type": "code",
   "execution_count": 223,
   "id": "73dfdb2e",
   "metadata": {},
   "outputs": [
    {
     "name": "stdout",
     "output_type": "stream",
     "text": [
      "R0 = 1060\n",
      "R1 = 265\n",
      "R2 = 420\n",
      "P0 = 50\n",
      "P1 = 110\n",
      "P2 = 0\n",
      "Sales of Product  l in demand state 0 = 50\n",
      "Sales of Product  l in demand state 1 = 50\n",
      "Sales of Product  l in demand state 2 = 50\n",
      "Sales of Product  m in demand state 0 = 20\n",
      "Sales of Product  m in demand state 1 = 110\n",
      "Sales of Product  m in demand state 2 = 110\n",
      "Sales of Product  h in demand state 0 = 0\n",
      "Sales of Product  h in demand state 1 = 0\n",
      "Sales of Product  h in demand state 2 = 0\n"
     ]
    }
   ],
   "source": [
    "for v in PPP.getVars():\n",
    "    print(v.varname, \"=\", round(v.x))"
   ]
  },
  {
   "cell_type": "code",
   "execution_count": 214,
   "id": "04a66e59",
   "metadata": {},
   "outputs": [
    {
     "data": {
      "text/plain": [
       "{(0, 0): <gurobi.Var Sales of Product  0 in demand state l (value 20.0)>,\n",
       " (0, 1): <gurobi.Var Sales of Product  1 in demand state l (value 110.0)>,\n",
       " (0, 2): <gurobi.Var Sales of Product  2 in demand state l (value 0.0)>,\n",
       " (1, 0): <gurobi.Var Sales of Product  0 in demand state m (value 20.0)>,\n",
       " (1, 1): <gurobi.Var Sales of Product  1 in demand state m (value 110.0)>,\n",
       " (1, 2): <gurobi.Var Sales of Product  2 in demand state m (value 0.0)>,\n",
       " (2, 0): <gurobi.Var Sales of Product  0 in demand state h (value 20.0)>,\n",
       " (2, 1): <gurobi.Var Sales of Product  1 in demand state h (value 110.0)>,\n",
       " (2, 2): <gurobi.Var Sales of Product  2 in demand state h (value 0.0)>}"
      ]
     },
     "execution_count": 214,
     "metadata": {},
     "output_type": "execute_result"
    }
   ],
   "source": [
    "S"
   ]
  },
  {
   "cell_type": "code",
   "execution_count": null,
   "id": "5d8c2a20",
   "metadata": {},
   "outputs": [],
   "source": []
  },
  {
   "cell_type": "code",
   "execution_count": null,
   "id": "b188799f",
   "metadata": {},
   "outputs": [],
   "source": []
  },
  {
   "cell_type": "code",
   "execution_count": null,
   "id": "3fdb2a48",
   "metadata": {},
   "outputs": [],
   "source": []
  }
 ],
 "metadata": {
  "kernelspec": {
   "display_name": "Python 3 (ipykernel)",
   "language": "python",
   "name": "python3"
  },
  "language_info": {
   "codemirror_mode": {
    "name": "ipython",
    "version": 3
   },
   "file_extension": ".py",
   "mimetype": "text/x-python",
   "name": "python",
   "nbconvert_exporter": "python",
   "pygments_lexer": "ipython3",
   "version": "3.10.9"
  }
 },
 "nbformat": 4,
 "nbformat_minor": 5
}
