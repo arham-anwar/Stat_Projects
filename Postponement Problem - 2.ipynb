{
 "cells": [
  {
   "cell_type": "code",
   "execution_count": 32,
   "id": "9748b021",
   "metadata": {},
   "outputs": [],
   "source": [
    "### Data matrices\n",
    "\n",
    "# k -> index of products, price (p1,p2,p3)\n",
    "# i -> index of resources, cost of resources (r1, r2, r3)\n",
    "# j -> index of market ( low, med , high)\n",
    "\n",
    "Demand_states = [\"l\", \"m\", \"h\"]\n",
    "\n",
    "# selling price with index i for each product\n",
    "Price = [60 ,40 ,10]  \n",
    "\n",
    "# resource recipe with index i,j where i stands for product and j for resource\n",
    "r = [[8, 6, 1], \n",
    "     [2, 1.5, 0.5], \n",
    "     [4 ,2, 1.5]] # use index k for prod, j for market [j, k]\n",
    "\n",
    "c = [2, 5.2, 4] # use index k for prod\n",
    "\n",
    "\n",
    "# demand for each product at different market conditions, each column is one product, each row is one market condition\n",
    "Demand = [[50, 150, 250],\n",
    "        [20, 110, 250],\n",
    "        [200, 225, 500]]  # [product][ market] ,i.e, i x j\n",
    "\n",
    "# probabbility of each market condition, use index j\n",
    "Prob = [0.3, 0.4, 0.3]"
   ]
  },
  {
   "cell_type": "code",
   "execution_count": 33,
   "id": "130eccdf",
   "metadata": {},
   "outputs": [],
   "source": [
    "import gurobipy as gb\n",
    "from gurobipy import GRB"
   ]
  },
  {
   "cell_type": "code",
   "execution_count": 34,
   "id": "f4045e61",
   "metadata": {},
   "outputs": [],
   "source": [
    "PPP = gb.Model(\"Postponement Problem 2_LP & Uncertainty\")"
   ]
  },
  {
   "cell_type": "code",
   "execution_count": 35,
   "id": "b2957e18",
   "metadata": {},
   "outputs": [],
   "source": [
    "# define indexes\n",
    "\n",
    "I = len(c) #resource\n",
    "J = len(Prob) #market\n",
    "K = len(Price) #product\n",
    "\n",
    "\n",
    "\n",
    "# define variables\n",
    "\n",
    "R = PPP.addVars(I, lb = 0, vtype = GRB.CONTINUOUS, name = [\"Resource \"+str(i) for i in range(I)])\n",
    "P = PPP.addVars(J, K, lb = 0, ub = [Demand[k][j] for j in range(J) for k in range(K)], vtype = GRB.CONTINUOUS, name = [\"Product\"+ str(k)\n",
    "                                                              + \"manufactured/sold in market\"+ str(j) \n",
    "                                                             for j in range(J) for k in range(K)])\n",
    "\n"
   ]
  },
  {
   "cell_type": "code",
   "execution_count": 36,
   "id": "bdb46b31",
   "metadata": {},
   "outputs": [],
   "source": [
    "# define objective function\n",
    "Revenue = sum(Price[k]*P[j, k]*Prob[j] for j in range(J) for k in range(K))\n",
    "Cost = sum(R[i]*c[i] for i in range(I))\n",
    "exp = Revenue - Cost\n",
    "\n",
    "PPP.setObjective(exp, GRB.MAXIMIZE)"
   ]
  },
  {
   "cell_type": "code",
   "execution_count": 37,
   "id": "cefe4f17",
   "metadata": {},
   "outputs": [
    {
     "data": {
      "text/plain": [
       "{(0, 0): <gurobi.Constr *Awaiting Model Update*>,\n",
       " (0, 1): <gurobi.Constr *Awaiting Model Update*>,\n",
       " (0, 2): <gurobi.Constr *Awaiting Model Update*>,\n",
       " (1, 0): <gurobi.Constr *Awaiting Model Update*>,\n",
       " (1, 1): <gurobi.Constr *Awaiting Model Update*>,\n",
       " (1, 2): <gurobi.Constr *Awaiting Model Update*>,\n",
       " (2, 0): <gurobi.Constr *Awaiting Model Update*>,\n",
       " (2, 1): <gurobi.Constr *Awaiting Model Update*>,\n",
       " (2, 2): <gurobi.Constr *Awaiting Model Update*>}"
      ]
     },
     "execution_count": 37,
     "metadata": {},
     "output_type": "execute_result"
    }
   ],
   "source": [
    "## define constraints\n",
    "\n",
    "# resource constraint by market\n",
    "PPP.addConstrs( sum(P[j, k]*r[i][k] for k in range(K)) <= R[i] for i in range(I) for j in range(J))\n",
    "\n"
   ]
  },
  {
   "cell_type": "code",
   "execution_count": 38,
   "id": "0f13d471",
   "metadata": {},
   "outputs": [
    {
     "name": "stdout",
     "output_type": "stream",
     "text": [
      "Gurobi Optimizer version 10.0.2 build v10.0.2rc0 (mac64[arm])\n",
      "\n",
      "CPU model: Apple M2\n",
      "Thread count: 8 physical cores, 8 logical processors, using up to 8 threads\n",
      "\n",
      "Optimize a model with 9 rows, 12 columns and 36 nonzeros\n",
      "Model fingerprint: 0x70cb3dec\n",
      "Coefficient statistics:\n",
      "  Matrix range     [5e-01, 8e+00]\n",
      "  Objective range  [2e+00, 2e+01]\n",
      "  Bounds range     [2e+01, 5e+02]\n",
      "  RHS range        [0e+00, 0e+00]\n",
      "Presolve time: 0.00s\n",
      "Presolved: 9 rows, 12 columns, 36 nonzeros\n",
      "\n",
      "Iteration    Objective       Primal Inf.    Dual Inf.      Time\n",
      "       0    9.5920000e+03   7.587500e+02   0.000000e+00      0s\n",
      "       7    1.7300000e+03   0.000000e+00   0.000000e+00      0s\n",
      "\n",
      "Solved in 7 iterations and 0.01 seconds (0.00 work units)\n",
      "Optimal objective  1.730000000e+03\n"
     ]
    }
   ],
   "source": [
    "PPP.optimize()"
   ]
  },
  {
   "cell_type": "code",
   "execution_count": 39,
   "id": "a8f28466",
   "metadata": {},
   "outputs": [
    {
     "data": {
      "text/plain": [
       "1730.0"
      ]
     },
     "execution_count": 39,
     "metadata": {},
     "output_type": "execute_result"
    }
   ],
   "source": [
    "PPP.objVal"
   ]
  },
  {
   "cell_type": "code",
   "execution_count": 40,
   "id": "73dfdb2e",
   "metadata": {},
   "outputs": [
    {
     "name": "stdout",
     "output_type": "stream",
     "text": [
      "Resource 0 = 1300\n",
      "Resource 1 = 325\n",
      "Resource 2 = 540\n",
      "Product0manufactured/sold in market0 = 50\n",
      "Product1manufactured/sold in market0 = 20\n",
      "Product2manufactured/sold in market0 = 200\n",
      "Product0manufactured/sold in market1 = 80\n",
      "Product1manufactured/sold in market1 = 110\n",
      "Product2manufactured/sold in market1 = 0\n",
      "Product0manufactured/sold in market2 = 80\n",
      "Product1manufactured/sold in market2 = 110\n",
      "Product2manufactured/sold in market2 = 0\n"
     ]
    }
   ],
   "source": [
    "for v in PPP.getVars():\n",
    "    print(v.varname, \"=\", round(v.x))"
   ]
  },
  {
   "cell_type": "code",
   "execution_count": null,
   "id": "04a66e59",
   "metadata": {},
   "outputs": [],
   "source": []
  },
  {
   "cell_type": "code",
   "execution_count": null,
   "id": "5d8c2a20",
   "metadata": {},
   "outputs": [],
   "source": []
  },
  {
   "cell_type": "code",
   "execution_count": null,
   "id": "b188799f",
   "metadata": {},
   "outputs": [],
   "source": []
  },
  {
   "cell_type": "code",
   "execution_count": null,
   "id": "3fdb2a48",
   "metadata": {},
   "outputs": [],
   "source": []
  }
 ],
 "metadata": {
  "kernelspec": {
   "display_name": "Python 3 (ipykernel)",
   "language": "python",
   "name": "python3"
  },
  "language_info": {
   "codemirror_mode": {
    "name": "ipython",
    "version": 3
   },
   "file_extension": ".py",
   "mimetype": "text/x-python",
   "name": "python",
   "nbconvert_exporter": "python",
   "pygments_lexer": "ipython3",
   "version": "3.10.9"
  }
 },
 "nbformat": 4,
 "nbformat_minor": 5
}
