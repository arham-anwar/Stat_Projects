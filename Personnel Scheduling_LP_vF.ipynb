{
 "cells": [
  {
   "cell_type": "code",
   "execution_count": 3,
   "id": "ce83fead",
   "metadata": {},
   "outputs": [],
   "source": [
    "import gurobipy as gb\n",
    "from gurobipy import *"
   ]
  },
  {
   "cell_type": "code",
   "execution_count": 4,
   "id": "b3e0ed3c",
   "metadata": {},
   "outputs": [
    {
     "data": {
      "text/plain": [
       "'\\n\\nobjective : Minimize the overall daily agent costs\\n    sigma [ ]\\n\\n\\nconstr\\n\\n\\n'"
      ]
     },
     "execution_count": 4,
     "metadata": {},
     "output_type": "execute_result"
    }
   ],
   "source": [
    "#personnel scheduling problem\n",
    "\n",
    "\"\"\"\n",
    "\n",
    "objective : Minimize the overall daily agent costs\n",
    "    sigma [ ]\n",
    "\n",
    "\n",
    "constr\n",
    "\n",
    "\n",
    "\"\"\""
   ]
  },
  {
   "cell_type": "code",
   "execution_count": 37,
   "id": "a58bc2fb",
   "metadata": {},
   "outputs": [],
   "source": [
    "# Initialtizing important objects\n",
    "\n",
    "shift = [170, 160, 175, 180, 195]\n",
    "\n",
    "req = [48, 79, 65, 87, 64, 73, 82, 43, 52, 15]\n",
    "\n",
    "\n",
    "Time_Periods = [[ 1, 0, 0, 0, 0],\n",
    "                [ 1, 1, 0, 0, 0],\n",
    "                [ 1, 1, 0, 0, 0],\n",
    "                [ 1, 1, 1, 0, 0],\n",
    "                [ 0, 1, 1, 0, 0],\n",
    "                [ 0, 0, 1, 1, 0],\n",
    "                [ 0, 0, 1, 1, 0],\n",
    "                [ 0, 0, 0, 1, 0],\n",
    "                [ 0, 0, 0, 1, 1],\n",
    "                [ 0, 0, 0, 0, 1]]\n",
    "    \n",
    "\n",
    "prob = gb.Model(\"Personnel Scheduling Problem\")\n"
   ]
  },
  {
   "cell_type": "code",
   "execution_count": 38,
   "id": "daf627ff",
   "metadata": {},
   "outputs": [],
   "source": [
    "# add variables\n",
    "X = prob.addVars(len(shift),\n",
    "                 lb = 0, \n",
    "                 vtype = GRB.CONTINUOUS, \n",
    "                 name = ['x_'+ str(i) for i in range(len(shift))]\n",
    "                )"
   ]
  },
  {
   "cell_type": "code",
   "execution_count": 47,
   "id": "0dd6a002",
   "metadata": {},
   "outputs": [
    {
     "data": {
      "text/plain": [
       "{0: <gurobi.Constr *Awaiting Model Update*>,\n",
       " 1: <gurobi.Constr *Awaiting Model Update*>,\n",
       " 2: <gurobi.Constr *Awaiting Model Update*>,\n",
       " 3: <gurobi.Constr *Awaiting Model Update*>,\n",
       " 4: <gurobi.Constr *Awaiting Model Update*>,\n",
       " 5: <gurobi.Constr *Awaiting Model Update*>,\n",
       " 6: <gurobi.Constr *Awaiting Model Update*>,\n",
       " 7: <gurobi.Constr *Awaiting Model Update*>,\n",
       " 8: <gurobi.Constr *Awaiting Model Update*>,\n",
       " 9: <gurobi.Constr *Awaiting Model Update*>}"
      ]
     },
     "execution_count": 47,
     "metadata": {},
     "output_type": "execute_result"
    }
   ],
   "source": [
    "\n",
    "# Set objective\n",
    "\n",
    "prob.setObjective((sum(X[i]*shift[i] for i in range(5))), GRB.MINIMIZE)\n",
    "\n",
    "j = 0\n",
    "\n",
    "\n",
    "# add consttrs\n",
    "prob.addConstrs((sum(X[i]* Time_Periods[j][i] for i in range(5)) >= req[j]) for j in range(10))\n",
    "                "
   ]
  },
  {
   "cell_type": "code",
   "execution_count": 48,
   "id": "9295ab03",
   "metadata": {},
   "outputs": [
    {
     "name": "stdout",
     "output_type": "stream",
     "text": [
      "Gurobi Optimizer version 10.0.2 build v10.0.2rc0 (mac64[arm])\n",
      "\n",
      "CPU model: Apple M2\n",
      "Thread count: 8 physical cores, 8 logical processors, using up to 8 threads\n",
      "\n",
      "Optimize a model with 20 rows, 5 columns and 36 nonzeros\n",
      "Coefficient statistics:\n",
      "  Matrix range     [1e+00, 1e+00]\n",
      "  Objective range  [2e+02, 2e+02]\n",
      "  Bounds range     [0e+00, 0e+00]\n",
      "  RHS range        [2e+01, 9e+01]\n",
      "Iteration    Objective       Primal Inf.    Dual Inf.      Time\n",
      "       0    0.0000000e+00   6.080000e+02   0.000000e+00      0s\n",
      "\n",
      "Solved in 7 iterations and 0.00 seconds (0.00 work units)\n",
      "Infeasible model\n"
     ]
    }
   ],
   "source": [
    "prob.optimize()"
   ]
  },
  {
   "cell_type": "code",
   "execution_count": 49,
   "id": "06dba6d5",
   "metadata": {},
   "outputs": [
    {
     "name": "stdout",
     "output_type": "stream",
     "text": [
      "x_0 = 48.0\n",
      "x_1 = 31.0\n",
      "x_2 = 8.0\n",
      "x_3 = 74.0\n",
      "x_4 = 15.0\n"
     ]
    }
   ],
   "source": [
    "for v in prob.getVars():\n",
    "    if v.x > 0:\n",
    "        print(v.varName, \"=\", v.x)"
   ]
  },
  {
   "cell_type": "code",
   "execution_count": null,
   "id": "84bb2160",
   "metadata": {},
   "outputs": [],
   "source": []
  }
 ],
 "metadata": {
  "kernelspec": {
   "display_name": "Python 3 (ipykernel)",
   "language": "python",
   "name": "python3"
  },
  "language_info": {
   "codemirror_mode": {
    "name": "ipython",
    "version": 3
   },
   "file_extension": ".py",
   "mimetype": "text/x-python",
   "name": "python",
   "nbconvert_exporter": "python",
   "pygments_lexer": "ipython3",
   "version": "3.10.9"
  }
 },
 "nbformat": 4,
 "nbformat_minor": 5
}
